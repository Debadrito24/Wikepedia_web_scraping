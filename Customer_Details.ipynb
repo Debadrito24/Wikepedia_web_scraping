{
  "nbformat": 4,
  "nbformat_minor": 0,
  "metadata": {
    "colab": {
      "provenance": [],
      "toc_visible": true
    },
    "kernelspec": {
      "name": "python3",
      "display_name": "Python 3"
    },
    "language_info": {
      "name": "python"
    }
  },
  "cells": [
    {
      "cell_type": "code",
      "source": [
        "def customer_details(p_name):\n",
        "    # import required modules\n",
        "    from bs4 import BeautifulSoup\n",
        "    import requests\n",
        "    \n",
        "    # get URL\n",
        "    page = requests.get(\"https://en.wikipedia.org/wiki/{p_name}\".format(p_name=p_name))\n",
        "    \n",
        "    # scrape webpage\n",
        "    soup = BeautifulSoup(page.content, 'html.parser')\n",
        "    \n",
        "    #list(soup.children)\n",
        "    \n",
        "    # create object\n",
        "    object = soup.find(id=\"mw-content-text\")\n",
        "    \n",
        "    # find tags\n",
        "    items_1 = object.find_all(class_=\"bday\")\n",
        "    result_1 = items_1[0].text\n",
        "    print(\"Birth_date:\",result_1)\n",
        "    items_2 = object.find_all(class_=\"birthplace\")\n",
        "    result_2 = items_2[0].text\n",
        "    print(\"Bithplace:\",result_2)\n",
        "    \n",
        "    \n",
        " "
      ],
      "metadata": {
        "id": "r-5MpwyamZIv"
      },
      "execution_count": 41,
      "outputs": []
    },
    {
      "cell_type": "code",
      "source": [
        "import pandas as pd\n",
        "p_name=input(\"Enter name: like 'Debadrito_Saha' \")\n",
        "customer_details(p_name) "
      ],
      "metadata": {
        "colab": {
          "base_uri": "https://localhost:8080/"
        },
        "id": "T8XLzxRhmZMp",
        "outputId": "f60a1bc5-7c8d-495b-aa14-cf9e83a9d99d"
      },
      "execution_count": 47,
      "outputs": [
        {
          "output_type": "stream",
          "name": "stdout",
          "text": [
            "Enter name: like 'Debadrito_Saha' Koushik_Sen\n",
            "Birth_date: 1968-09-19\n",
            "Bithplace: Kolkata, West Bengal, India\n"
          ]
        }
      ]
    },
    {
      "cell_type": "code",
      "source": [],
      "metadata": {
        "id": "8SME82Vq83YW"
      },
      "execution_count": 45,
      "outputs": []
    }
  ]
}